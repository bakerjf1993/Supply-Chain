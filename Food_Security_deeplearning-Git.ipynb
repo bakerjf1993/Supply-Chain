{
 "cells": [
  {
   "cell_type": "code",
   "execution_count": 1,
   "metadata": {},
   "outputs": [
    {
     "name": "stderr",
     "output_type": "stream",
     "text": [
      "c:\\Users\\stvp2\\AppData\\Local\\Programs\\Python\\Python310\\lib\\site-packages\\xgboost\\compat.py:85: FutureWarning: pandas.Int64Index is deprecated and will be removed from pandas in a future version. Use pandas.Index with the appropriate dtype instead.\n",
      "  from pandas import MultiIndex, Int64Index\n"
     ]
    }
   ],
   "source": [
    "import os \n",
    "import pandas as pd\n",
    "import matplotlib.pyplot as plt\n",
    "import seaborn as sns\n",
    "import numpy as np\n",
    "import math\n",
    "import matplotlib.pyplot as plt\n",
    "# For Prediction:\n",
    "from sklearn.model_selection import train_test_split\n",
    "from sklearn.ensemble import RandomForestRegressor\n",
    "import xgboost as xgb\n",
    "from statistics import mean\n",
    "from sklearn.metrics import auc, accuracy_score, confusion_matrix, mean_squared_error\n",
    "\n",
    "# For nice Plots\n",
    "%matplotlib inline\n",
    "plt.style.use('default')"
   ]
  },
  {
   "attachments": {},
   "cell_type": "markdown",
   "metadata": {},
   "source": [
    "# Read in the data"
   ]
  },
  {
   "cell_type": "code",
   "execution_count": 2,
   "metadata": {},
   "outputs": [],
   "source": [
    "dir_path = os.path.abspath(\"\")\n",
    "fname = dir_path+'\\FAOSTAT_data_en_12-16-2022.csv'\n",
    "df = pd.read_csv(fname, encoding='latin-1')"
   ]
  },
  {
   "attachments": {},
   "cell_type": "markdown",
   "metadata": {},
   "source": [
    "# Read in Port Information"
   ]
  },
  {
   "cell_type": "code",
   "execution_count": 3,
   "metadata": {},
   "outputs": [],
   "source": [
    "dir_path = os.path.abspath(\"\")\n",
    "fname = dir_path+'\\countryport.csv'\n",
    "df2 = pd.read_csv(fname, encoding='latin-1')"
   ]
  },
  {
   "attachments": {},
   "cell_type": "markdown",
   "metadata": {},
   "source": [
    "# Read in Scraper Information"
   ]
  },
  {
   "cell_type": "code",
   "execution_count": 4,
   "metadata": {},
   "outputs": [],
   "source": [
    "dir_path = os.path.abspath(\"\")\n",
    "fname = dir_path+'\\scraper_ndvi_data.csv'\n",
    "df3 = pd.read_csv(fname, encoding='latin-1')"
   ]
  },
  {
   "attachments": {},
   "cell_type": "markdown",
   "metadata": {},
   "source": [
    "# Unique cateories in a list"
   ]
  },
  {
   "cell_type": "code",
   "execution_count": 5,
   "metadata": {},
   "outputs": [
    {
     "name": "stdout",
     "output_type": "stream",
     "text": [
      "63\n",
      "['Average dietary energy supply adequacy (percent) (3-year average)', 'Dietary energy supply used in the estimation of prevalence of undernourishment (kcal/cap/day) (3-year average)', 'Share of dietary energy supply derived from cereals, roots and tubers (kcal/cap/day) (3-year average)', 'Average protein supply (g/cap/day) (3-year average)', 'Average supply of protein of animal origin (g/cap/day) (3-year average)', 'Rail lines density (total route in km per 100 square km of land area)', 'Gross domestic product per capita, PPP, (constant 2017 international $)', 'Prevalence of undernourishment (percent) (3-year average)', 'Number of people undernourished (million) (3-year average)', 'Prevalence of severe food insecurity in the total population (percent) (3-year average)', 'Prevalence of severe food insecurity in the male adult population (percent) (3-year average)', 'Prevalence of severe food insecurity in the female adult population (percent) (3-year average)', 'Prevalence of moderate or severe food insecurity in the total population (percent) (3-year average)', 'Prevalence of moderate or severe food insecurity in the male adult population (percent) (3-year average)', 'Prevalence of moderate or severe food insecurity in the female adult population (percent) (3-year average)', 'Number of severely food insecure people (million) (3-year average)', 'Number of severely food insecure male adults (million) (3-year average)', 'Number of severely food insecure female adults (million) (3-year average)', 'Number of moderately or severely food insecure people (million) (3-year average)', 'Number of moderately or severely food insecure male adults (million) (3-year average)', 'Number of moderately or severely food insecure female adults (million) (3-year average)', 'Cereal import dependency ratio (percent) (3-year average)', 'Percent of arable land equipped for irrigation (percent) (3-year average)', 'Value of food imports in total merchandise exports (percent) (3-year average)', 'Political stability and absence of violence/terrorism (index)', 'Per capita food production variability (constant 2014-2016 thousand int$ per capita)', 'Per capita food supply variability (kcal/cap/day)', 'Percentage of population using safely managed drinking water services (Percent)', 'Percentage of population using at least basic drinking water services (percent)', 'Percentage of population using safely managed sanitation services (Percent)', 'Percentage of population using at least basic sanitation services (percent)', 'Percentage of children under 5 years affected by wasting (percent)', 'Number of children under 5 years affected by wasting (million)', 'Percentage of children under 5 years of age who are stunted (modelled estimates) (percent)', 'Number of children under 5 years of age who are stunted (modeled estimates) (million)', 'Percentage of children under 5 years of age who are overweight (modelled estimates) (percent)', 'Number of children under 5 years of age who are overweight (modeled estimates) (million)', 'Prevalence of obesity in the adult population (18 years and older)', 'Number of obese adults (18 years and older) (million)', 'Prevalence of anemia among women of reproductive age (15-49 years)', 'Number of women of reproductive age (15-49 years) affected by anemia (million)', 'Prevalence of exclusive breastfeeding among infants 0-5 months of age', 'Prevalence of low birthweight (percent)', 'Number of newborns with low birthweight (million)', 'Minimum dietary energy requirement  (kcal/cap/day)', 'Average dietary energy requirement (kcal/cap/day)', 'Coefficient of variation of habitual caloric consumption distribution (real number)', 'Incidence of caloric losses at retail distribution level (percent)', 'Average fat supply (g/cap/day) (3-year average)', 'Prevalence of undernourishment (percent) (annual value)', 'Number of people undernourished (million) (annual value)', 'Prevalence of severe food insecurity in the total population (percent) (annual value)', 'Prevalence of severe food insecurity in the male adult population (percent) (annual value)', 'Prevalence of severe food insecurity in the female adult population (percent) (annual value)', 'Prevalence of moderate or severe food insecurity in the total population (percent) (annual value)', 'Prevalence of moderate or severe food insecurity in the male adult population (percent) (annual value)', 'Prevalence of moderate or severe food insecurity in the female adult population (percent) (annual value)', 'Number of severely food insecure people (million) (annual value)', 'Number of severely food insecure male adults (million) (annual value)', 'Number of severely food insecure female adults (million) (annual value)', 'Number of moderately or severely food insecure people (million) (annual value)', 'Number of moderately or severely food insecure male adults (million) (annual value)', 'Number of moderately or severely food insecure female adults (million) (annual value)']\n"
     ]
    }
   ],
   "source": [
    "print(len(df['Item'].unique()))\n",
    "categories = df['Item'].unique()\n",
    "categories = categories.tolist()\n",
    "print(categories)"
   ]
  },
  {
   "attachments": {},
   "cell_type": "markdown",
   "metadata": {},
   "source": [
    "# Changing the year range"
   ]
  },
  {
   "cell_type": "code",
   "execution_count": 6,
   "metadata": {},
   "outputs": [
    {
     "name": "stdout",
     "output_type": "stream",
     "text": [
      "[2002 2003 2004 2005 2006 2007 2008 2009 2010 2011 2012 2013 2014 2015\n",
      " 2016 2017 2018 2019 2020 2021 2000 2001]\n"
     ]
    }
   ],
   "source": [
    "for i in range(0, len(df)):\n",
    "    s = str(df.loc[i]['Year'])\n",
    "    s = s.split('-')\n",
    "    if len(s)>1:\n",
    "        p = int(s[1])\n",
    "        df.at[i,'Year'] = p\n",
    "    else:\n",
    "        p = int(s[0])\n",
    "        df.at[i,'Year'] = p\n",
    "print(df['Year'].unique())"
   ]
  },
  {
   "attachments": {},
   "cell_type": "markdown",
   "metadata": {},
   "source": [
    "# Create New Country Dataframe"
   ]
  },
  {
   "cell_type": "code",
   "execution_count": 7,
   "metadata": {},
   "outputs": [],
   "source": [
    "columns = ['Country', 'Year'] + categories\n",
    "numCols = len(columns)\n",
    "countrydf = pd.DataFrame(columns = columns)\n",
    "for country in df['Area'].unique():\n",
    "    for year in df['Year'].unique():\n",
    "        countrydf.loc[len(countrydf)] = [country, year] + [float(\"NAN\")]*(numCols-2)"
   ]
  },
  {
   "attachments": {},
   "cell_type": "markdown",
   "metadata": {},
   "source": [
    "# Populate Data in Country Dataframe "
   ]
  },
  {
   "cell_type": "code",
   "execution_count": 8,
   "metadata": {},
   "outputs": [],
   "source": [
    "for i in range(0, len(df)-1):\n",
    "    Item = df['Item'].iloc[i]\n",
    "    Country = df['Area'].iloc[i]\n",
    "    Year = df['Year'].iloc[i]\n",
    "    Value = df['Value'].iloc[i]\n",
    "    countrydf.loc[(countrydf['Country']==Country) & (countrydf['Year']==Year),Item] = Value"
   ]
  },
  {
   "attachments": {},
   "cell_type": "markdown",
   "metadata": {},
   "source": [
    "# Add Hub Data to DataFrame"
   ]
  },
  {
   "cell_type": "code",
   "execution_count": 9,
   "metadata": {},
   "outputs": [],
   "source": [
    "countrydf['Port'] = 'NAN'\n",
    "countrydf['Resiliency'] = 'NAN'\n",
    "for i in range(0, len(countrydf)):\n",
    "    Country = countrydf['Country'].iloc[i]\n",
    "    for j in range(0, len(df2)):\n",
    "        Port = df2['Country'].iloc[j]\n",
    "        Hub = df2['Hub?'].iloc[j]\n",
    "        Res = df2['Res'].iloc[j]\n",
    "        if Country == Port:\n",
    "           countrydf.at[i,'Port'] = Hub\n",
    "           countrydf.loc[i,'Resiliency'] = Res"
   ]
  },
  {
   "attachments": {},
   "cell_type": "markdown",
   "metadata": {},
   "source": [
    "# Convert numerical data to floats"
   ]
  },
  {
   "cell_type": "code",
   "execution_count": 10,
   "metadata": {},
   "outputs": [],
   "source": [
    "for col in countrydf.columns[2:]:\n",
    "    for ind in countrydf.index:\n",
    "        if isinstance(countrydf.loc[ind,col],str):\n",
    "            s = countrydf.loc[ind,col]\n",
    "            s = s.split('<')\n",
    "            if s[0] != '':\n",
    "                s = float(s[0])\n",
    "                countrydf.loc[ind,col] = s\n",
    "            else:\n",
    "                s.pop(0)\n",
    "                s = float(s[0])\n",
    "                countrydf.loc[ind,col] = s\n",
    "        else:\n",
    "            continue  "
   ]
  },
  {
   "attachments": {},
   "cell_type": "markdown",
   "metadata": {},
   "source": [
    "# Populate Response Column"
   ]
  },
  {
   "cell_type": "code",
   "execution_count": 11,
   "metadata": {},
   "outputs": [],
   "source": [
    "Future_Undernourishment_Col_Name = \"Prevalence of undernourishment (percent) (3-year average)\"\n",
    "for i in range(0, len(countrydf)-1):\n",
    "    if countrydf.loc[i,'Year'] != 2021:\n",
    "        #countrydf.loc[i,'Future Undernourishment'] = countrydf.loc[i+1,Future_Undernourishment_Col_Name]\n",
    "        # Future Undernourishment is the change in undernourishment for the next year\n",
    "        countrydf.loc[i,'Future Undernourishment'] = countrydf.loc[i+1,Future_Undernourishment_Col_Name]-countrydf.loc[i,Future_Undernourishment_Col_Name]\n",
    "    else:\n",
    "        continue"
   ]
  },
  {
   "cell_type": "code",
   "execution_count": 12,
   "metadata": {},
   "outputs": [],
   "source": [
    "# Remove data for years 2000 and 2021, which do not have a response variable\n",
    "countrydf = countrydf[countrydf.Year != 2000]\n",
    "countrydf = countrydf[countrydf.Year != 2021]\n",
    "countrydf = countrydf.reset_index()"
   ]
  },
  {
   "attachments": {},
   "cell_type": "markdown",
   "metadata": {},
   "source": [
    "# Scraper Incorporation"
   ]
  },
  {
   "cell_type": "code",
   "execution_count": 13,
   "metadata": {},
   "outputs": [],
   "source": [
    "countrydf.insert(68,'Scraper Average year',float(0))"
   ]
  },
  {
   "cell_type": "code",
   "execution_count": 14,
   "metadata": {},
   "outputs": [],
   "source": [
    "Months = df3.columns[2:]\n",
    "for i in df3.index:\n",
    "    \n",
    "    Country = df3['Country'].iloc[i]\n",
    "    Year = df3['Year'].iloc[i]\n",
    "    AveScrape = mean(df3[Months].iloc[i])\n",
    "    countrydf.loc[(countrydf['Country']==Country) & (countrydf['Year']==Year),'Scraper Average year'] = AveScrape"
   ]
  },
  {
   "attachments": {},
   "cell_type": "markdown",
   "metadata": {},
   "source": [
    "# Countries with Data in the Response Column"
   ]
  },
  {
   "cell_type": "code",
   "execution_count": 15,
   "metadata": {},
   "outputs": [],
   "source": [
    "# Remove rows for Equatorial Guinea (because there is insufficent data)\n",
    "countrydf = countrydf[countrydf['Country'] != 'Equatorial Guinea']\n",
    "countrydf = countrydf.reset_index()\n",
    "countrydf.to_csv('countrydf.csv')"
   ]
  },
  {
   "attachments": {},
   "cell_type": "markdown",
   "metadata": {},
   "source": [
    "# Prediction:"
   ]
  },
  {
   "cell_type": "code",
   "execution_count": 16,
   "metadata": {},
   "outputs": [
    {
     "name": "stderr",
     "output_type": "stream",
     "text": [
      "C:\\Users\\stvp2\\AppData\\Local\\Temp\\ipykernel_12616\\4280608993.py:7: FutureWarning: Dropping of nuisance columns in DataFrame reductions (with 'numeric_only=None') is deprecated; in a future version this will raise TypeError.  Select only valid columns before calling the reduction.\n",
      "  countrydf2 = countrydf.fillna(countrydf.mean())\n"
     ]
    }
   ],
   "source": [
    "# Build a test set and training set\n",
    "X_train, X_test, y_train, y_test = train_test_split(\n",
    "  countrydf.drop([\"Future Undernourishment\", \"Country\", \"Year\"], axis=1), countrydf[\"Future Undernourishment\"], test_size=1/3)\n",
    "\n",
    "# Replace all the NaNs with the column mean, \n",
    "# and build the test set and training set using the indicies from the first set\n",
    "countrydf2 = countrydf.fillna(countrydf.mean())\n",
    "# Build a test set and training set\n",
    "X_train2 = countrydf2.drop([\"Future Undernourishment\", \"Country\", \"Year\"], axis=1).iloc[X_train.index]\n",
    "X_test2 = countrydf2.drop([\"Future Undernourishment\", \"Country\", \"Year\"], axis=1).iloc[X_test.index]\n",
    "y_train2 = countrydf2[\"Future Undernourishment\"].iloc[y_train.index]\n",
    "y_test2 = countrydf2[\"Future Undernourishment\"].iloc[y_test.index]\n",
    "\n",
    "# Use only rows with non-NaN response variable, then replace all the NaNs with the column mean \n",
    "# and build the test set and training set using the indicies from the first set\n",
    "keep_indices_test = np.where(y_test.notna())\n",
    "keep_indices_train = np.where(y_train.notna())\n",
    "# Build a test set and training set\n",
    "X_train3 = X_train2.iloc[keep_indices_train]\n",
    "X_test3 = X_test2.iloc[keep_indices_test]\n",
    "y_train3 = y_train2.iloc[keep_indices_train]\n",
    "y_test3 = y_test2.iloc[keep_indices_test]"
   ]
  },
  {
   "attachments": {},
   "cell_type": "markdown",
   "metadata": {},
   "source": [
    "# ANN"
   ]
  },
  {
   "cell_type": "code",
   "execution_count": 27,
   "metadata": {},
   "outputs": [
    {
     "name": "stdout",
     "output_type": "stream",
     "text": [
      "Epoch 1/50\n"
     ]
    },
    {
     "name": "stderr",
     "output_type": "stream",
     "text": [
      "c:\\Users\\stvp2\\AppData\\Local\\Programs\\Python\\Python310\\lib\\site-packages\\keras\\optimizers\\optimizer_v2\\adam.py:114: UserWarning: The `lr` argument is deprecated, use `learning_rate` instead.\n",
      "  super().__init__(name, **kwargs)\n"
     ]
    },
    {
     "name": "stdout",
     "output_type": "stream",
     "text": [
      "18/18 [==============================] - 3s 38ms/step - loss: 2.6608 - val_loss: 2.1283\n",
      "Epoch 2/50\n",
      "18/18 [==============================] - 0s 10ms/step - loss: 2.6534 - val_loss: 2.1245\n",
      "Epoch 3/50\n",
      "18/18 [==============================] - 0s 11ms/step - loss: 2.6477 - val_loss: 2.1196\n",
      "Epoch 4/50\n",
      "18/18 [==============================] - 0s 12ms/step - loss: 2.6372 - val_loss: 2.1084\n",
      "Epoch 5/50\n",
      "18/18 [==============================] - 0s 8ms/step - loss: 2.6173 - val_loss: 2.0862\n",
      "Epoch 6/50\n",
      "18/18 [==============================] - 0s 7ms/step - loss: 2.5656 - val_loss: 2.0483\n",
      "Epoch 7/50\n",
      "18/18 [==============================] - 0s 8ms/step - loss: 2.4790 - val_loss: 1.9693\n",
      "Epoch 8/50\n",
      "18/18 [==============================] - 0s 10ms/step - loss: 2.3998 - val_loss: 1.8948\n",
      "Epoch 9/50\n",
      "18/18 [==============================] - 0s 10ms/step - loss: 2.3163 - val_loss: 1.8740\n",
      "Epoch 10/50\n",
      "18/18 [==============================] - 0s 11ms/step - loss: 2.2562 - val_loss: 1.8533\n",
      "Epoch 11/50\n",
      "18/18 [==============================] - 0s 8ms/step - loss: 2.2033 - val_loss: 1.8673\n",
      "Epoch 12/50\n",
      "18/18 [==============================] - 0s 7ms/step - loss: 2.1804 - val_loss: 1.9286\n",
      "Epoch 13/50\n",
      "18/18 [==============================] - 0s 10ms/step - loss: 2.3246 - val_loss: 1.9355\n",
      "Epoch 14/50\n",
      "18/18 [==============================] - 0s 9ms/step - loss: 2.2439 - val_loss: 1.8578\n",
      "Epoch 15/50\n",
      "18/18 [==============================] - 0s 10ms/step - loss: 2.1701 - val_loss: 1.8751\n",
      "Epoch 16/50\n",
      "18/18 [==============================] - 0s 12ms/step - loss: 2.1698 - val_loss: 1.8497\n",
      "Epoch 17/50\n",
      "18/18 [==============================] - 0s 8ms/step - loss: 2.1706 - val_loss: 1.9490\n",
      "Epoch 18/50\n",
      "18/18 [==============================] - 0s 9ms/step - loss: 2.1162 - val_loss: 1.8354\n",
      "Epoch 19/50\n",
      "18/18 [==============================] - 0s 8ms/step - loss: 2.0963 - val_loss: 1.8982\n",
      "Epoch 20/50\n",
      "18/18 [==============================] - 0s 9ms/step - loss: 2.0717 - val_loss: 1.8159\n",
      "Epoch 21/50\n",
      "18/18 [==============================] - 0s 10ms/step - loss: 2.0537 - val_loss: 1.8452\n",
      "Epoch 22/50\n",
      "18/18 [==============================] - 0s 11ms/step - loss: 2.0901 - val_loss: 1.8737\n",
      "Epoch 23/50\n",
      "18/18 [==============================] - 0s 12ms/step - loss: 1.9887 - val_loss: 1.8157\n",
      "Epoch 24/50\n",
      "18/18 [==============================] - 0s 15ms/step - loss: 2.0002 - val_loss: 1.7784\n",
      "Epoch 25/50\n",
      "18/18 [==============================] - 0s 16ms/step - loss: 1.9694 - val_loss: 1.7849\n",
      "Epoch 26/50\n",
      "18/18 [==============================] - 0s 13ms/step - loss: 2.0115 - val_loss: 1.9318\n",
      "Epoch 27/50\n",
      "18/18 [==============================] - 0s 15ms/step - loss: 2.0308 - val_loss: 1.7826\n",
      "Epoch 28/50\n",
      "18/18 [==============================] - 0s 14ms/step - loss: 1.9456 - val_loss: 1.9820\n",
      "Epoch 29/50\n",
      "18/18 [==============================] - 0s 14ms/step - loss: 2.0883 - val_loss: 1.8187\n",
      "Epoch 30/50\n",
      "18/18 [==============================] - 0s 12ms/step - loss: 1.9732 - val_loss: 1.9275\n",
      "Epoch 31/50\n",
      "18/18 [==============================] - 0s 14ms/step - loss: 2.0447 - val_loss: 1.7772\n",
      "Epoch 32/50\n",
      "18/18 [==============================] - 0s 11ms/step - loss: 2.0288 - val_loss: 1.8298\n",
      "Epoch 33/50\n",
      "18/18 [==============================] - 0s 11ms/step - loss: 1.9264 - val_loss: 1.7812\n",
      "Epoch 34/50\n",
      "18/18 [==============================] - 0s 13ms/step - loss: 1.9355 - val_loss: 1.9056\n",
      "Epoch 35/50\n",
      "18/18 [==============================] - 0s 7ms/step - loss: 1.9149 - val_loss: 1.8021\n",
      "Epoch 36/50\n",
      "18/18 [==============================] - 0s 8ms/step - loss: 1.9167 - val_loss: 1.7982\n",
      "Epoch 37/50\n",
      "18/18 [==============================] - 0s 8ms/step - loss: 1.8669 - val_loss: 1.7782\n",
      "Epoch 38/50\n",
      "18/18 [==============================] - 0s 8ms/step - loss: 1.9712 - val_loss: 1.9027\n",
      "Epoch 39/50\n",
      "18/18 [==============================] - 0s 10ms/step - loss: 1.9180 - val_loss: 1.7971\n",
      "Epoch 40/50\n",
      "18/18 [==============================] - 0s 10ms/step - loss: 1.8590 - val_loss: 1.7825\n",
      "Epoch 41/50\n",
      "18/18 [==============================] - 0s 11ms/step - loss: 1.8521 - val_loss: 1.7661\n",
      "Epoch 42/50\n",
      "18/18 [==============================] - 0s 11ms/step - loss: 1.8391 - val_loss: 1.8280\n",
      "Epoch 43/50\n",
      "18/18 [==============================] - 0s 8ms/step - loss: 1.8908 - val_loss: 1.9323\n",
      "Epoch 44/50\n",
      "18/18 [==============================] - 0s 9ms/step - loss: 1.8963 - val_loss: 2.1556\n",
      "Epoch 45/50\n",
      "18/18 [==============================] - 0s 8ms/step - loss: 1.8564 - val_loss: 1.7992\n",
      "Epoch 46/50\n",
      "18/18 [==============================] - 0s 11ms/step - loss: 1.9859 - val_loss: 1.8752\n",
      "Epoch 47/50\n",
      "18/18 [==============================] - 0s 14ms/step - loss: 1.8613 - val_loss: 1.9907\n",
      "Epoch 48/50\n",
      "18/18 [==============================] - 0s 10ms/step - loss: 1.8995 - val_loss: 1.8623\n",
      "Epoch 49/50\n",
      "18/18 [==============================] - 0s 11ms/step - loss: 1.8668 - val_loss: 1.9134\n",
      "Epoch 50/50\n",
      "18/18 [==============================] - 0s 11ms/step - loss: 1.8831 - val_loss: 1.7990\n"
     ]
    }
   ],
   "source": [
    "import tensorflow as tf\n",
    "from tensorflow import keras\n",
    "from keras import layers\n",
    "from keras.optimizers import Adam\n",
    "\n",
    "# define the input shape and number of classes\n",
    "input_shape = X_train3.shape[1]\n",
    "num_classes = 1\n",
    "\n",
    "# define the model architecture\n",
    "model = keras.Sequential()\n",
    "model.add(layers.Dense(30, activation='relu', input_shape=(input_shape,)))\n",
    "for i in range(30):\n",
    "    model.add(layers.Dense(30, activation='relu'))\n",
    "model.add(layers.Dense(num_classes, activation='linear'))\n",
    "\n",
    "optimizer = Adam(lr=0.0001)\n",
    "# compile the model\n",
    "model.compile(loss='mean_squared_error', optimizer=optimizer)\n",
    "\n",
    "# train the model\n",
    "history = model.fit(X_train3, y_train3, epochs=50, validation_data=(X_test3, y_test3))"
   ]
  }
 ],
 "metadata": {
  "kernelspec": {
   "display_name": "Python 3",
   "language": "python",
   "name": "python3"
  },
  "language_info": {
   "codemirror_mode": {
    "name": "ipython",
    "version": 3
   },
   "file_extension": ".py",
   "mimetype": "text/x-python",
   "name": "python",
   "nbconvert_exporter": "python",
   "pygments_lexer": "ipython3",
   "version": "3.10.7"
  },
  "orig_nbformat": 4,
  "vscode": {
   "interpreter": {
    "hash": "fb7b73d107179de93e518a613ce6d462bfe492e7a25dfa42dc5e63cc08cf43c4"
   }
  }
 },
 "nbformat": 4,
 "nbformat_minor": 2
}
